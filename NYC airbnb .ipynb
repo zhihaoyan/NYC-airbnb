{
 "cells": [
  {
   "cell_type": "code",
   "execution_count": 75,
   "metadata": {},
   "outputs": [
    {
     "name": "stdout",
     "output_type": "stream",
     "text": [
      "[[-0.93194198 -1.4938492  -0.43765209 ... -0.55151094 -0.03471643\n",
      "   1.91625031]\n",
      " [ 0.2523626   0.45243602 -0.68463915 ... -0.4450791  -0.15610444\n",
      "   1.84027456]\n",
      " [ 0.2523626   1.46839948  0.22249666 ... -0.68298556 -0.18645145\n",
      "   1.91625031]\n",
      " ...\n",
      " [ 0.2523626   1.57348017  0.07582101 ... -0.68298556 -0.18645145\n",
      "  -0.65173008]\n",
      " [ 0.2523626   0.52377353 -0.84388081 ... -0.68298556 -0.03471643\n",
      "  -0.84166946]\n",
      " [ 0.2523626   0.64352518 -0.8050995  ... -0.68298556 -0.18645145\n",
      "  -0.68212038]]\n"
     ]
    }
   ],
   "source": [
    "import pandas as pd \n",
    "import numpy as np \n",
    "from sklearn.model_selection import train_test_split, cross_val_score, GridSearchCV, KFold, StratifiedKFold, RandomizedSearchCV\n",
    "from xgboost.sklearn import XGBRegressor\n",
    "from math import sqrt\n",
    "df = pd.read_csv(\"./desktop/AIRB_NYC_2019.csv\")\n",
    "df['neighbourhood_group'].replace(('Brooklyn', 'Manhattan','Queens','Staten Island','Bronx'), (1,2,3,4,5), inplace=True)\n",
    "df['room_type'].replace(('Private room', 'Entire home/apt','Shared room'), (1,2,3), inplace=True)\n",
    "X=df.drop(['id','name','host_id','host_name','last_review','price','neighbourhood',],axis=1)\n",
    "X['reviews_per_month'] = X['reviews_per_month'].fillna(0)\n",
    "#y1=df['price']\n",
    "from sklearn import preprocessing\n",
    "scaler  = preprocessing.StandardScaler()\n",
    "X_scaled = scaler.fit(X.values)\n",
    "X= X_scaled.transform(X.values)\n",
    "print(X)\n",
    "\n",
    "df=df.drop(['id','name','host_id','host_name','last_review','neighbourhood'],axis=1)"
   ]
  },
  {
   "cell_type": "code",
   "execution_count": 52,
   "metadata": {},
   "outputs": [
    {
     "data": {
      "text/html": [
       "<div>\n",
       "<style scoped>\n",
       "    .dataframe tbody tr th:only-of-type {\n",
       "        vertical-align: middle;\n",
       "    }\n",
       "\n",
       "    .dataframe tbody tr th {\n",
       "        vertical-align: top;\n",
       "    }\n",
       "\n",
       "    .dataframe thead th {\n",
       "        text-align: right;\n",
       "    }\n",
       "</style>\n",
       "<table border=\"1\" class=\"dataframe\">\n",
       "  <thead>\n",
       "    <tr style=\"text-align: right;\">\n",
       "      <th></th>\n",
       "      <th>neighbourhood_group</th>\n",
       "      <th>latitude</th>\n",
       "      <th>longitude</th>\n",
       "      <th>room_type</th>\n",
       "      <th>price</th>\n",
       "      <th>minimum_nights</th>\n",
       "      <th>number_of_reviews</th>\n",
       "      <th>reviews_per_month</th>\n",
       "      <th>calculated_host_listings_count</th>\n",
       "      <th>availability_365</th>\n",
       "    </tr>\n",
       "  </thead>\n",
       "  <tbody>\n",
       "    <tr>\n",
       "      <td>0</td>\n",
       "      <td>1</td>\n",
       "      <td>40.64749</td>\n",
       "      <td>-73.97237</td>\n",
       "      <td>1</td>\n",
       "      <td>149</td>\n",
       "      <td>1</td>\n",
       "      <td>9</td>\n",
       "      <td>0.21</td>\n",
       "      <td>6</td>\n",
       "      <td>365</td>\n",
       "    </tr>\n",
       "    <tr>\n",
       "      <td>1</td>\n",
       "      <td>2</td>\n",
       "      <td>40.75362</td>\n",
       "      <td>-73.98377</td>\n",
       "      <td>2</td>\n",
       "      <td>225</td>\n",
       "      <td>1</td>\n",
       "      <td>45</td>\n",
       "      <td>0.38</td>\n",
       "      <td>2</td>\n",
       "      <td>355</td>\n",
       "    </tr>\n",
       "    <tr>\n",
       "      <td>2</td>\n",
       "      <td>2</td>\n",
       "      <td>40.80902</td>\n",
       "      <td>-73.94190</td>\n",
       "      <td>1</td>\n",
       "      <td>150</td>\n",
       "      <td>3</td>\n",
       "      <td>0</td>\n",
       "      <td>NaN</td>\n",
       "      <td>1</td>\n",
       "      <td>365</td>\n",
       "    </tr>\n",
       "    <tr>\n",
       "      <td>3</td>\n",
       "      <td>1</td>\n",
       "      <td>40.68514</td>\n",
       "      <td>-73.95976</td>\n",
       "      <td>2</td>\n",
       "      <td>89</td>\n",
       "      <td>1</td>\n",
       "      <td>270</td>\n",
       "      <td>4.64</td>\n",
       "      <td>1</td>\n",
       "      <td>194</td>\n",
       "    </tr>\n",
       "    <tr>\n",
       "      <td>4</td>\n",
       "      <td>2</td>\n",
       "      <td>40.79851</td>\n",
       "      <td>-73.94399</td>\n",
       "      <td>2</td>\n",
       "      <td>80</td>\n",
       "      <td>10</td>\n",
       "      <td>9</td>\n",
       "      <td>0.10</td>\n",
       "      <td>1</td>\n",
       "      <td>0</td>\n",
       "    </tr>\n",
       "  </tbody>\n",
       "</table>\n",
       "</div>"
      ],
      "text/plain": [
       "   neighbourhood_group  latitude  longitude  room_type  price  minimum_nights  \\\n",
       "0                    1  40.64749  -73.97237          1    149               1   \n",
       "1                    2  40.75362  -73.98377          2    225               1   \n",
       "2                    2  40.80902  -73.94190          1    150               3   \n",
       "3                    1  40.68514  -73.95976          2     89               1   \n",
       "4                    2  40.79851  -73.94399          2     80              10   \n",
       "\n",
       "   number_of_reviews  reviews_per_month  calculated_host_listings_count  \\\n",
       "0                  9               0.21                               6   \n",
       "1                 45               0.38                               2   \n",
       "2                  0                NaN                               1   \n",
       "3                270               4.64                               1   \n",
       "4                  9               0.10                               1   \n",
       "\n",
       "   availability_365  \n",
       "0               365  \n",
       "1               355  \n",
       "2               365  \n",
       "3               194  \n",
       "4                 0  "
      ]
     },
     "execution_count": 52,
     "metadata": {},
     "output_type": "execute_result"
    }
   ],
   "source": [
    "df.head()"
   ]
  },
  {
   "cell_type": "code",
   "execution_count": 77,
   "metadata": {},
   "outputs": [
    {
     "data": {
      "text/plain": [
       "(48895,)"
      ]
     },
     "execution_count": 77,
     "metadata": {},
     "output_type": "execute_result"
    }
   ],
   "source": [
    "#df=df.drop(['id','name','host_id','host_name','last_review','neighbourhood'],axis=1)\n",
    "df['reviews_per_month'] = df['reviews_per_month'].fillna(0)\n",
    "from sklearn import preprocessing\n",
    "scaler  = preprocessing.StandardScaler()\n",
    "df_scaled = scaler.fit(df)\n",
    "df1=df_scaled.transform(df)\n",
    "df1=pd.DataFrame(df1)\n",
    "y=df1[4]\n",
    "y=y.values\n",
    "X.shape\n",
    "y.shape\n",
    "\n",
    "\n",
    "\n",
    "\n",
    "\n",
    "\n"
   ]
  },
  {
   "cell_type": "code",
   "execution_count": 78,
   "metadata": {},
   "outputs": [
    {
     "name": "stdout",
     "output_type": "stream",
     "text": [
      "Dimensions of the training feature matrix: (39116, 9)\n",
      "Dimensions of the training target vector: (39116,)\n",
      "Dimensions of the test feature matrix: (9779, 9)\n",
      "Dimensions of the test target vector: (9779,)\n"
     ]
    }
   ],
   "source": [
    "X_train, X_test, y_train, y_test = train_test_split(X, y, test_size=0.2, random_state=42)\n",
    "print('Dimensions of the training feature matrix: {}'.format(X_train.shape))\n",
    "print('Dimensions of the training target vector: {}'.format(y_train.shape))\n",
    "print('Dimensions of the test feature matrix: {}'.format(X_test.shape))\n",
    "print('Dimensions of the test target vector: {}'.format(y_test.shape))\n"
   ]
  },
  {
   "cell_type": "code",
   "execution_count": 79,
   "metadata": {},
   "outputs": [
    {
     "name": "stdout",
     "output_type": "stream",
     "text": [
      "[15:53:00] WARNING: src/objective/regression_obj.cu:152: reg:linear is now deprecated in favor of reg:squarederror.\n",
      "[ 0.02953801 -0.4774688  -0.1424442  ... -0.35279745  0.43230358\n",
      "  0.3355024 ]\n"
     ]
    }
   ],
   "source": [
    "model = XGBRegressor()              \n",
    "model.fit(X_train,y_train)            \n",
    "y_pred = model.predict(X_test)\n",
    "y_pred.shape\n",
    "print(y_pred)\n",
    "#max_depth=5, learning_rate=0.1, n_estimators=160, silent=True, objective='multi:softmax'"
   ]
  },
  {
   "cell_type": "code",
   "execution_count": 80,
   "metadata": {},
   "outputs": [
    {
     "data": {
      "text/plain": [
       "0.1592232637015356"
      ]
     },
     "execution_count": 80,
     "metadata": {},
     "output_type": "execute_result"
    }
   ],
   "source": [
    "#for n in range(9779):\n",
    "    #sum= sum+(y_pred[n]-y_test[n])\n",
    "#Mse= sqrt(sum**2/9779)\n",
    "#print(Mse)\n",
    "model.score(X_test, y_test)\n"
   ]
  },
  {
   "cell_type": "code",
   "execution_count": 81,
   "metadata": {},
   "outputs": [
    {
     "data": {
      "text/plain": [
       "1.0"
      ]
     },
     "execution_count": 81,
     "metadata": {},
     "output_type": "execute_result"
    }
   ],
   "source": [
    "np.std(y)"
   ]
  },
  {
   "cell_type": "code",
   "execution_count": 7,
   "metadata": {},
   "outputs": [
    {
     "name": "stdout",
     "output_type": "stream",
     "text": [
      "[]\n"
     ]
    }
   ],
   "source": [
    "from bs4 import BeautifulSoup\n",
    "#from urllib import requests\n",
    "import requests\n",
    "start_url_nyc = \"https://www.airbnb.com/s/New-York--NY--United-States\"\n",
    "rsp = requests.get(start_url_nyc)\n",
    "soup = BeautifulSoup(rsp.text, 'html.parser')\n",
    "divs = soup.find_all('div', {\"class\":\"thumb-pic\"})\n",
    "print(divs)"
   ]
  },
  {
   "cell_type": "code",
   "execution_count": 5,
   "metadata": {},
   "outputs": [],
   "source": [
    "\n"
   ]
  },
  {
   "cell_type": "code",
   "execution_count": null,
   "metadata": {},
   "outputs": [],
   "source": []
  }
 ],
 "metadata": {
  "kernelspec": {
   "display_name": "Python 3",
   "language": "python",
   "name": "python3"
  },
  "language_info": {
   "codemirror_mode": {
    "name": "ipython",
    "version": 3
   },
   "file_extension": ".py",
   "mimetype": "text/x-python",
   "name": "python",
   "nbconvert_exporter": "python",
   "pygments_lexer": "ipython3",
   "version": "3.7.4"
  }
 },
 "nbformat": 4,
 "nbformat_minor": 4
}
