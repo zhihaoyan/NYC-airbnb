{
 "cells": [
  {
   "cell_type": "code",
   "execution_count": 1,
   "metadata": {},
   "outputs": [
    {
     "name": "stdout",
     "output_type": "stream",
     "text": [
      "[[-0.01549307]\n",
      " [ 0.30097355]\n",
      " [-0.01132904]\n",
      " ...\n",
      " [-0.15707024]\n",
      " [-0.4069123 ]\n",
      " [-0.2611711 ]]\n"
     ]
    }
   ],
   "source": [
    "import pandas as pd \n",
    "import numpy as np \n",
    "from sklearn.model_selection import train_test_split, cross_val_score, GridSearchCV, KFold, StratifiedKFold, RandomizedSearchCV\n",
    "from xgboost.sklearn import XGBClassifier\n",
    "from math import sqrt\n",
    "df = pd.read_csv(\"./desktop/AIRB_NYC_2019.csv\")\n",
    "df['neighbourhood_group'].replace(('Brooklyn', 'Manhattan','Queens','Staten Island','Bronx'), (1,2,3,4,5), inplace=True)\n",
    "df['room_type'].replace(('Private room', 'Entire home/apt','Shared room'), (1,2,3), inplace=True)\n",
    "X=df.drop(['id','name','host_id','host_name','last_review','price','neighbourhood',],axis=1)\n",
    "y=df['price']\n",
    "X=df['minimum_nights']\n",
    "from sklearn import preprocessing\n",
    "scaler  = preprocessing.StandardScaler()\n",
    "y_scaled = scaler.fit(y.values.reshape(-1,1))\n",
    "y1= y_scaled.transform(y.values.reshape(-1,1))\n",
    "#X['reviews_per_month'] = X['reviews_per_month'].fillna(0)\n",
    "print(y1)\n"
   ]
  },
  {
   "cell_type": "code",
   "execution_count": 2,
   "metadata": {},
   "outputs": [
    {
     "name": "stdout",
     "output_type": "stream",
     "text": [
      "0         1\n",
      "1         1\n",
      "2         3\n",
      "3         1\n",
      "4        10\n",
      "         ..\n",
      "48890     2\n",
      "48891     4\n",
      "48892    10\n",
      "48893     1\n",
      "48894     7\n",
      "Name: minimum_nights, Length: 48895, dtype: int64\n"
     ]
    }
   ],
   "source": [
    "print(X)"
   ]
  },
  {
   "cell_type": "code",
   "execution_count": 3,
   "metadata": {},
   "outputs": [
    {
     "name": "stdout",
     "output_type": "stream",
     "text": [
      "[[-0.29399621]\n",
      " [-0.29399621]\n",
      " [-0.19648442]\n",
      " ...\n",
      " [ 0.14480686]\n",
      " [-0.29399621]\n",
      " [-0.00146083]]\n"
     ]
    }
   ],
   "source": [
    "from sklearn import preprocessing\n",
    "scaler  = preprocessing.StandardScaler()\n",
    "X_scaled = scaler.fit(X.values.reshape(-1, 1))\n",
    "X1=X_scaled.transform(X.values.reshape(-1, 1))\n",
    "print(X1)\n",
    "\n"
   ]
  },
  {
   "cell_type": "code",
   "execution_count": 4,
   "metadata": {},
   "outputs": [
    {
     "name": "stdout",
     "output_type": "stream",
     "text": [
      "Dimensions of the training feature matrix: (39116, 1)\n",
      "Dimensions of the training target vector: (39116,)\n",
      "Dimensions of the test feature matrix: (9779, 1)\n",
      "Dimensions of the test target vector: (9779,)\n"
     ]
    }
   ],
   "source": [
    "X_train, X_test, y_train, y_test = train_test_split(X1, y1.ravel(), test_size=0.2, random_state=42)\n",
    "print('Dimensions of the training feature matrix: {}'.format(X_train.shape))\n",
    "print('Dimensions of the training target vector: {}'.format(y_train.shape))\n",
    "print('Dimensions of the test feature matrix: {}'.format(X_test.shape))\n",
    "print('Dimensions of the test target vector: {}'.format(y_test.shape))\n"
   ]
  },
  {
   "cell_type": "code",
   "execution_count": null,
   "metadata": {},
   "outputs": [],
   "source": [
    "model = XGBClassifier(max_depth=5, learning_rate=0.1, n_estimators=160, silent=True, objective='multi:softmax')              \n",
    "model.fit(X_train,y_train.ravel())            \n",
    "y_pred = model.predict(X_test)\n",
    "y_pred.shape\n"
   ]
  },
  {
   "cell_type": "code",
   "execution_count": null,
   "metadata": {},
   "outputs": [],
   "source": [
    "for n in range(9779):\n",
    "    sum= sum+(y_pred[n]-y_test[n])\n",
    "Mse= sqrt(sum**2/9779)\n",
    "print(Mse)\n"
   ]
  },
  {
   "cell_type": "code",
   "execution_count": null,
   "metadata": {},
   "outputs": [],
   "source": []
  }
 ],
 "metadata": {
  "kernelspec": {
   "display_name": "Python 3",
   "language": "python",
   "name": "python3"
  },
  "language_info": {
   "codemirror_mode": {
    "name": "ipython",
    "version": 3
   },
   "file_extension": ".py",
   "mimetype": "text/x-python",
   "name": "python",
   "nbconvert_exporter": "python",
   "pygments_lexer": "ipython3",
   "version": "3.7.4"
  }
 },
 "nbformat": 4,
 "nbformat_minor": 4
}
